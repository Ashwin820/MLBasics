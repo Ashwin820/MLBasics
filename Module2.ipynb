{
 "cells": [
  {
   "cell_type": "markdown",
   "metadata": {
    "colab_type": "text",
    "id": "yvRFuFBLrsac"
   },
   "source": [
    "# Machine Learning Basics\n",
    "In this module, you'll be implementing a simple Linear Regressor and Logistic Regressor. Obtain salary data using `wget` from [here](https://raw.githubusercontent.com/solarillion/MLBasics/master/Data/Salary_Data.csv). <br> <br>\n",
    "**Pipeline:**\n",
    "* Acquiring the data\n",
    "* Handling files and formats\n",
    "* Data Analysis \n",
    "* Prediction\n",
    "* Analysing results"
   ]
  },
  {
   "cell_type": "markdown",
   "metadata": {
    "colab_type": "text",
    "id": "AwvgLLICtyt_"
   },
   "source": [
    "## Imports\n",
    "You may require NumPy, pandas, matplotlib and scikit-learn for this module. Do not, however, use the inbuilt Linear and Logistic Regressors from scikit-learn."
   ]
  },
  {
   "cell_type": "code",
   "execution_count": 1,
   "metadata": {},
   "outputs": [],
   "source": [
    "import numpy as np\n",
    "import pandas as pd\n",
    "import scipy as sc\n",
    "import matplotlib.pyplot as plt\n",
    "from sklearn.linear_model import LogisticRegression"
   ]
  },
  {
   "cell_type": "markdown",
   "metadata": {
    "colab_type": "text",
    "id": "yE5Sz6nKvjTS"
   },
   "source": [
    "## Dataset\n",
    "You can load the dataset and perform any dataset related operations here. Split the data into training and testing sets. Do this separately for the regression and classification problems."
   ]
  },
  {
   "cell_type": "code",
   "execution_count": 2,
   "metadata": {},
   "outputs": [],
   "source": [
    "df = pd.read_csv(\"C:/Users/Ashwinkumar/Desktop/Bright Academy/MLBasics-master/Data/Salary_Data.csv\")"
   ]
  },
  {
   "cell_type": "code",
   "execution_count": 3,
   "metadata": {},
   "outputs": [],
   "source": [
    "df_train = df.iloc[0:20]\n",
    "df_test = df.iloc[20:30]"
   ]
  },
  {
   "cell_type": "code",
   "execution_count": 4,
   "metadata": {},
   "outputs": [
    {
     "data": {
      "image/png": "[encoded data removed]",
      "text/plain": [
       "<Figure size 432x288 with 1 Axes>"
      ]
     },
     "metadata": {
      "needs_background": "light"
     },
     "output_type": "display_data"
    }
   ],
   "source": [
    "plt.scatter(df[\"YearsExperience\"],df[\"Salary\"])\n",
    "plt.show()"
   ]
  },
  {
   "cell_type": "markdown",
   "metadata": {
    "colab_type": "text",
    "id": "VienPTZA1ZEr"
   },
   "source": [
    "## Task 1a - Linear Regressor\n",
    "Code your own Linear Regressor here, and fit it to your training data. You will be predicting salary based on years of experience."
   ]
  },
  {
   "cell_type": "code",
   "execution_count": 5,
   "metadata": {},
   "outputs": [],
   "source": [
    "def simple_linear_regression(dataframe):\n",
    "    x = dataframe[\"YearsExperience\"]\n",
    "    y = dataframe[\"Salary\"]\n",
    "    mean_x = x.mean()\n",
    "    mean_y = y.mean()\n",
    "    beta_num = ((x - mean_x)*(y - mean_y)).sum()\n",
    "    beta_den = ((x - mean_x)**2).sum()\n",
    "    beta = beta_num/beta_den\n",
    "    beta = round(beta,3)\n",
    "    alpha = mean_y - (beta*mean_x)\n",
    "    alpha = round(alpha,3)\n",
    "    estimated_salary = alpha + (beta*x)\n",
    "    dataframe = dataframe.assign(EstimatedSalary = estimated_salary)\n",
    "    rss = ((y - estimated_salary)**2).sum()\n",
    "    tss = ((y - mean_y)**2).sum()\n",
    "    R_squared = 1 - (rss/tss)\n",
    "    R_squared = round(R_squared,3)\n",
    "    return dict(zip(('Dataframe','Alpha','Beta','R_squared'),(dataframe,alpha,beta,R_squared)))"
   ]
  },
  {
   "cell_type": "code",
   "execution_count": 6,
   "metadata": {},
   "outputs": [],
   "source": [
    "results = simple_linear_regression(df_train)"
   ]
  },
  {
   "cell_type": "code",
   "execution_count": 10,
   "metadata": {},
   "outputs": [],
   "source": [
    "df_train_new = results['Dataframe']"
   ]
  },
  {
   "cell_type": "code",
   "execution_count": 11,
   "metadata": {},
   "outputs": [
    {
     "data": {
      "text/html": [
       "<div>\n",
       "<style scoped>\n",
       "    .dataframe tbody tr th:only-of-type {\n",
       "        vertical-align: middle;\n",
       "    }\n",
       "\n",
       "    .dataframe tbody tr th {\n",
       "        vertical-align: top;\n",
       "    }\n",
       "\n",
       "    .dataframe thead th {\n",
       "        text-align: right;\n",
       "    }\n",
       "</style>\n",
       "<table border=\"1\" class=\"dataframe\">\n",
       "  <thead>\n",
       "    <tr style=\"text-align: right;\">\n",
       "      <th></th>\n",
       "      <th>YearsExperience</th>\n",
       "      <th>Salary</th>\n",
       "      <th>EstimatedSalary</th>\n",
       "    </tr>\n",
       "  </thead>\n",
       "  <tbody>\n",
       "    <tr>\n",
       "      <th>0</th>\n",
       "      <td>1.1</td>\n",
       "      <td>39343.0</td>\n",
       "      <td>36605.1264</td>\n",
       "    </tr>\n",
       "    <tr>\n",
       "      <th>1</th>\n",
       "      <td>1.3</td>\n",
       "      <td>46205.0</td>\n",
       "      <td>38428.3492</td>\n",
       "    </tr>\n",
       "    <tr>\n",
       "      <th>2</th>\n",
       "      <td>1.5</td>\n",
       "      <td>37731.0</td>\n",
       "      <td>40251.5720</td>\n",
       "    </tr>\n",
       "    <tr>\n",
       "      <th>3</th>\n",
       "      <td>2.0</td>\n",
       "      <td>43525.0</td>\n",
       "      <td>44809.6290</td>\n",
       "    </tr>\n",
       "    <tr>\n",
       "      <th>4</th>\n",
       "      <td>2.2</td>\n",
       "      <td>39891.0</td>\n",
       "      <td>46632.8518</td>\n",
       "    </tr>\n",
       "    <tr>\n",
       "      <th>5</th>\n",
       "      <td>2.9</td>\n",
       "      <td>56642.0</td>\n",
       "      <td>53014.1316</td>\n",
       "    </tr>\n",
       "    <tr>\n",
       "      <th>6</th>\n",
       "      <td>3.0</td>\n",
       "      <td>60150.0</td>\n",
       "      <td>53925.7430</td>\n",
       "    </tr>\n",
       "    <tr>\n",
       "      <th>7</th>\n",
       "      <td>3.2</td>\n",
       "      <td>54445.0</td>\n",
       "      <td>55748.9658</td>\n",
       "    </tr>\n",
       "    <tr>\n",
       "      <th>8</th>\n",
       "      <td>3.2</td>\n",
       "      <td>64445.0</td>\n",
       "      <td>55748.9658</td>\n",
       "    </tr>\n",
       "    <tr>\n",
       "      <th>9</th>\n",
       "      <td>3.7</td>\n",
       "      <td>57189.0</td>\n",
       "      <td>60307.0228</td>\n",
       "    </tr>\n",
       "    <tr>\n",
       "      <th>10</th>\n",
       "      <td>3.9</td>\n",
       "      <td>63218.0</td>\n",
       "      <td>62130.2456</td>\n",
       "    </tr>\n",
       "    <tr>\n",
       "      <th>11</th>\n",
       "      <td>4.0</td>\n",
       "      <td>55794.0</td>\n",
       "      <td>63041.8570</td>\n",
       "    </tr>\n",
       "    <tr>\n",
       "      <th>12</th>\n",
       "      <td>4.0</td>\n",
       "      <td>56957.0</td>\n",
       "      <td>63041.8570</td>\n",
       "    </tr>\n",
       "    <tr>\n",
       "      <th>13</th>\n",
       "      <td>4.1</td>\n",
       "      <td>57081.0</td>\n",
       "      <td>63953.4684</td>\n",
       "    </tr>\n",
       "    <tr>\n",
       "      <th>14</th>\n",
       "      <td>4.5</td>\n",
       "      <td>61111.0</td>\n",
       "      <td>67599.9140</td>\n",
       "    </tr>\n",
       "    <tr>\n",
       "      <th>15</th>\n",
       "      <td>4.9</td>\n",
       "      <td>67938.0</td>\n",
       "      <td>71246.3596</td>\n",
       "    </tr>\n",
       "    <tr>\n",
       "      <th>16</th>\n",
       "      <td>5.1</td>\n",
       "      <td>66029.0</td>\n",
       "      <td>73069.5824</td>\n",
       "    </tr>\n",
       "    <tr>\n",
       "      <th>17</th>\n",
       "      <td>5.3</td>\n",
       "      <td>83088.0</td>\n",
       "      <td>74892.8052</td>\n",
       "    </tr>\n",
       "    <tr>\n",
       "      <th>18</th>\n",
       "      <td>5.9</td>\n",
       "      <td>81363.0</td>\n",
       "      <td>80362.4736</td>\n",
       "    </tr>\n",
       "    <tr>\n",
       "      <th>19</th>\n",
       "      <td>6.0</td>\n",
       "      <td>93940.0</td>\n",
       "      <td>81274.0850</td>\n",
       "    </tr>\n",
       "  </tbody>\n",
       "</table>\n",
       "</div>"
      ],
      "text/plain": [
       "    YearsExperience   Salary  EstimatedSalary\n",
       "0               1.1  39343.0       36605.1264\n",
       "1               1.3  46205.0       38428.3492\n",
       "2               1.5  37731.0       40251.5720\n",
       "3               2.0  43525.0       44809.6290\n",
       "4               2.2  39891.0       46632.8518\n",
       "5               2.9  56642.0       53014.1316\n",
       "6               3.0  60150.0       53925.7430\n",
       "7               3.2  54445.0       55748.9658\n",
       "8               3.2  64445.0       55748.9658\n",
       "9               3.7  57189.0       60307.0228\n",
       "10              3.9  63218.0       62130.2456\n",
       "11              4.0  55794.0       63041.8570\n",
       "12              4.0  56957.0       63041.8570\n",
       "13              4.1  57081.0       63953.4684\n",
       "14              4.5  61111.0       67599.9140\n",
       "15              4.9  67938.0       71246.3596\n",
       "16              5.1  66029.0       73069.5824\n",
       "17              5.3  83088.0       74892.8052\n",
       "18              5.9  81363.0       80362.4736\n",
       "19              6.0  93940.0       81274.0850"
      ]
     },
     "execution_count": 11,
     "metadata": {},
     "output_type": "execute_result"
    }
   ],
   "source": [
    "df_train_new"
   ]
  },
  {
   "cell_type": "code",
   "execution_count": 12,
   "metadata": {},
   "outputs": [
    {
     "data": {
      "image/png": "[encoded data removed]",
      "text/plain": [
       "<Figure size 432x288 with 1 Axes>"
      ]
     },
     "metadata": {
      "needs_background": "light"
     },
     "output_type": "display_data"
    }
   ],
   "source": [
    "plt.scatter(df_train_new[\"YearsExperience\"],df_train_new[\"Salary\"])\n",
    "plt.plot(df_train_new[\"YearsExperience\"],df_train_new[\"EstimatedSalary\"],color = \"red\")\n",
    "plt.show()"
   ]
  },
  {
   "cell_type": "markdown",
   "metadata": {},
   "source": [
    "## Task 1b - Logistic Regression\n",
    "Code your own Logistic Regressor here, and fit it to your training data. You will first have to create a column, 'Salary<60000', which contains '1' if salary is less than 60000 and '0' otherwise. This is your target variable, which you will aim to predict based on years of experience."
   ]
  },
  {
   "cell_type": "code",
   "execution_count": 13,
   "metadata": {},
   "outputs": [],
   "source": [
    "#shuffling dataset\n",
    "df_logistic = df.sample(frac=1).reset_index().drop([\"index\"], axis =1)"
   ]
  },
  {
   "cell_type": "code",
   "execution_count": 14,
   "metadata": {},
   "outputs": [],
   "source": [
    "#assigning binary variable\n",
    "df_logistic = df_logistic.assign(Salary60000 = [1 if df_logistic[\"Salary\"][i] < 60000 else 0 for i in range(0,30)])"
   ]
  },
  {
   "cell_type": "code",
   "execution_count": 15,
   "metadata": {},
   "outputs": [],
   "source": [
    "#splitting into train and test dataset\n",
    "df_logistic_train = df_logistic.iloc[0:20]\n",
    "df_logistic_test = df_logistic.iloc[20:30]"
   ]
  },
  {
   "cell_type": "code",
   "execution_count": 16,
   "metadata": {},
   "outputs": [],
   "source": [
    "df_logistic_train = df_logistic_train.sort_values(by = \"YearsExperience\").reset_index().drop([\"index\"], axis =1) \n",
    "df_logistic_test = df_logistic_test.sort_values(by = \"YearsExperience\").reset_index().drop([\"index\"], axis =1) "
   ]
  },
  {
   "cell_type": "code",
   "execution_count": 17,
   "metadata": {},
   "outputs": [
    {
     "data": {
      "text/plain": [
       "<matplotlib.collections.PathCollection at 0x14cd3ff4700>"
      ]
     },
     "execution_count": 17,
     "metadata": {},
     "output_type": "execute_result"
    },
    {
     "data": {
      "image/png": "[encoded data removed]",
      "text/plain": [
       "<Figure size 432x288 with 1 Axes>"
      ]
     },
     "metadata": {
      "needs_background": "light"
     },
     "output_type": "display_data"
    }
   ],
   "source": [
    "plt.scatter(np.array(df_logistic_train[\"YearsExperience\"]),np.array(df_logistic_train[\"Salary60000\"]))"
   ]
  },
  {
   "cell_type": "code",
   "execution_count": 18,
   "metadata": {},
   "outputs": [],
   "source": [
    "def logistic_regression_gradient(params, dataframe):\n",
    "    x_train = np.array(dataframe[\"YearsExperience\"])\n",
    "    y_train = np.array(dataframe[\"Salary60000\"])\n",
    "    \n",
    "    num = np.exp(params[0] + params[1]*x_train)\n",
    "    den = 1 + num\n",
    "    p = num / den\n",
    "    \n",
    "    partial_beta0 = np.sum(y_train - p)\n",
    "    partial_beta1 = np.sum((y_train - p) * x_train)\n",
    "    \n",
    "    return np.array([partial_beta0, partial_beta1])"
   ]
  },
  {
   "cell_type": "code",
   "execution_count": 19,
   "metadata": {},
   "outputs": [],
   "source": [
    "def fit_model():\n",
    "    betas = np.array([0.0,0.0])\n",
    "    diff = np.inf\n",
    "    learning_rate = 0.001\n",
    "\n",
    "    while diff > 0.0001:\n",
    "        gradient = logistic_regression_gradient(betas, df_logistic_train)\n",
    "        diff = abs(gradient).sum()\n",
    "    \n",
    "        betas += learning_rate*gradient\n",
    "    return betas"
   ]
  },
  {
   "cell_type": "code",
   "execution_count": 41,
   "metadata": {},
   "outputs": [
    {
     "data": {
      "text/plain": [
       "array([ 5.36348022, -1.38171861])"
      ]
     },
     "execution_count": 41,
     "metadata": {},
     "output_type": "execute_result"
    }
   ],
   "source": [
    "betas = fit_model()\n",
    "betas"
   ]
  },
  {
   "cell_type": "code",
   "execution_count": 21,
   "metadata": {},
   "outputs": [],
   "source": [
    "def calc_probs(dataframe, betas):\n",
    "    x_train = np.array(dataframe[\"YearsExperience\"])\n",
    "    y_train = np.array(dataframe[\"Salary60000\"])\n",
    "    \n",
    "    num = np.exp(betas[0] + betas[1]*x_train)\n",
    "    \n",
    "    p = num / (1 + num)\n",
    "    \n",
    "    dataframe = dataframe.assign(CalcProb = p)\n",
    "    \n",
    "    return dataframe"
   ]
  },
  {
   "cell_type": "code",
   "execution_count": 22,
   "metadata": {},
   "outputs": [],
   "source": [
    "df_logistic_train = calc_probs(df_logistic_train, betas)"
   ]
  },
  {
   "cell_type": "code",
   "execution_count": 23,
   "metadata": {},
   "outputs": [
    {
     "data": {
      "image/png": "[encoded data removed]",
      "text/plain": [
       "<Figure size 432x288 with 1 Axes>"
      ]
     },
     "metadata": {
      "needs_background": "light"
     },
     "output_type": "display_data"
    }
   ],
   "source": [
    "plt.scatter(np.array(df_logistic_train[\"YearsExperience\"]),np.array(df_logistic_train[\"Salary60000\"]))\n",
    "plt.plot(np.array(df_logistic_train[\"YearsExperience\"]),np.array(df_logistic_train[\"CalcProb\"]), color = \"red\")\n",
    "plt.show()"
   ]
  },
  {
   "cell_type": "code",
   "execution_count": 24,
   "metadata": {},
   "outputs": [],
   "source": [
    "def pred_probs(dataframe):\n",
    "    dataframe = dataframe.assign(PredProb = [1 if dataframe[\"CalcProb\"][i] > 0.6 else 0 for i in range(len(dataframe))])\n",
    "    return dataframe"
   ]
  },
  {
   "cell_type": "code",
   "execution_count": 25,
   "metadata": {},
   "outputs": [],
   "source": [
    "df_logistic_train = pred_probs(df_logistic_train)"
   ]
  },
  {
   "cell_type": "code",
   "execution_count": 26,
   "metadata": {},
   "outputs": [],
   "source": [
    "def logistic_metrics(dataframe):\n",
    "    true_pos = 0\n",
    "    true_neg = 0\n",
    "    false_pos = 0\n",
    "    false_neg = 0\n",
    "    for i in range(0,20):\n",
    "        if dataframe[\"Salary60000\"][i] == 1:\n",
    "            if dataframe[\"PredProb\"][i] == 1:\n",
    "                true_pos += 1\n",
    "            elif dataframe[\"PredProb\"][i] == 0:\n",
    "                false_pos += 1\n",
    "        elif dataframe[\"Salary60000\"][i] == 0:\n",
    "            if dataframe[\"PredProb\"][i] == 0:\n",
    "                true_neg += 1\n",
    "            elif dataframe[\"PredProb\"][i] == 1:\n",
    "                false_neg += 1     \n",
    "    precision = round(true_pos / (true_pos + false_pos), 2) \n",
    "    recall = round(true_pos / (true_pos + false_neg), 2)\n",
    "    accuracy = round((true_pos + true_neg) / 20, 2) \n",
    "    f1_score = round((2*recall*precision) / recall + precision, 2)\n",
    "    return dict(zip(('precision','recall','accuracy','f1_score'),(precision,recall,accuracy,f1_score))) "
   ]
  },
  {
   "cell_type": "code",
   "execution_count": 27,
   "metadata": {},
   "outputs": [
    {
     "data": {
      "text/plain": [
       "{'precision': 0.62, 'recall': 0.71, 'accuracy': 0.75, 'f1_score': 1.86}"
      ]
     },
     "execution_count": 27,
     "metadata": {},
     "output_type": "execute_result"
    }
   ],
   "source": [
    "logistic_metrics(df_logistic_train)"
   ]
  },
  {
   "cell_type": "code",
   "execution_count": 42,
   "metadata": {},
   "outputs": [
    {
     "name": "stdout",
     "output_type": "stream",
     "text": [
      "beta_0: 5.3640586621252035\n",
      "beta_1: -1.3818591253124188\n"
     ]
    }
   ],
   "source": [
    "# Checking with in-built LogisticRegression function \n",
    "clf = LogisticRegression(penalty = \"none\")\n",
    "clf.fit(np.array(df_logistic_train[\"YearsExperience\"]).reshape(-1,1), np.array(df_logistic_train[\"Salary60000\"]))\n",
    "print('beta_0: %s'%clf.intercept_[0])\n",
    "print('beta_1: %s'%clf.coef_[0][0])"
   ]
  },
  {
   "cell_type": "markdown",
   "metadata": {
    "colab_type": "text",
    "id": "vaCu6RS52qYf",
    "tags": []
   },
   "source": [
    "## Task 2 - Results\n",
    "Analyse the quality of the ML models you built using metrics such as R2, MAE and RMSE for the Linear Regressor, and Accuracy for the Logistic Regressor. Evaluate their performance on the testing set."
   ]
  },
  {
   "cell_type": "markdown",
   "metadata": {
    "tags": []
   },
   "source": [
    "#### Analysing Linear Regression"
   ]
  },
  {
   "cell_type": "code",
   "execution_count": 28,
   "metadata": {},
   "outputs": [
    {
     "data": {
      "text/plain": [
       "0.824"
      ]
     },
     "execution_count": 28,
     "metadata": {},
     "output_type": "execute_result"
    }
   ],
   "source": [
    "R_sq = results[\"R_squared\"]\n",
    "R_sq"
   ]
  },
  {
   "cell_type": "code",
   "execution_count": 29,
   "metadata": {},
   "outputs": [],
   "source": [
    "def predict_salary(dataframe, reg_results):\n",
    "    x_test = dataframe[\"YearsExperience\"]\n",
    "    y_test = dataframe[\"Salary\"]\n",
    "    num = len(x_test)\n",
    "    predicted_salary = round(reg_results[\"Alpha\"] + (reg_results[\"Beta\"] * x_test),2)\n",
    "    dataframe = dataframe.assign(PredictedSalary = predicted_salary)\n",
    "    prediction_errors_sq = (y_test - predicted_salary)**2\n",
    "    rmse = (prediction_errors_sq.sum()/num)**0.5\n",
    "    return dict(zip((\"Dataframe\",\"RMSE\"),(dataframe,rmse)))"
   ]
  },
  {
   "cell_type": "code",
   "execution_count": 30,
   "metadata": {},
   "outputs": [],
   "source": [
    "predicted_salary = predict_salary(df_test, results)"
   ]
  },
  {
   "cell_type": "code",
   "execution_count": 31,
   "metadata": {},
   "outputs": [
    {
     "data": {
      "text/html": [
       "<div>\n",
       "<style scoped>\n",
       "    .dataframe tbody tr th:only-of-type {\n",
       "        vertical-align: middle;\n",
       "    }\n",
       "\n",
       "    .dataframe tbody tr th {\n",
       "        vertical-align: top;\n",
       "    }\n",
       "\n",
       "    .dataframe thead th {\n",
       "        text-align: right;\n",
       "    }\n",
       "</style>\n",
       "<table border=\"1\" class=\"dataframe\">\n",
       "  <thead>\n",
       "    <tr style=\"text-align: right;\">\n",
       "      <th></th>\n",
       "      <th>YearsExperience</th>\n",
       "      <th>Salary</th>\n",
       "      <th>PredictedSalary</th>\n",
       "    </tr>\n",
       "  </thead>\n",
       "  <tbody>\n",
       "    <tr>\n",
       "      <th>20</th>\n",
       "      <td>6.8</td>\n",
       "      <td>91738.0</td>\n",
       "      <td>88566.98</td>\n",
       "    </tr>\n",
       "    <tr>\n",
       "      <th>21</th>\n",
       "      <td>7.1</td>\n",
       "      <td>98273.0</td>\n",
       "      <td>91301.81</td>\n",
       "    </tr>\n",
       "    <tr>\n",
       "      <th>22</th>\n",
       "      <td>7.9</td>\n",
       "      <td>101302.0</td>\n",
       "      <td>98594.70</td>\n",
       "    </tr>\n",
       "    <tr>\n",
       "      <th>23</th>\n",
       "      <td>8.2</td>\n",
       "      <td>113812.0</td>\n",
       "      <td>101329.54</td>\n",
       "    </tr>\n",
       "    <tr>\n",
       "      <th>24</th>\n",
       "      <td>8.7</td>\n",
       "      <td>109431.0</td>\n",
       "      <td>105887.59</td>\n",
       "    </tr>\n",
       "    <tr>\n",
       "      <th>25</th>\n",
       "      <td>9.0</td>\n",
       "      <td>105582.0</td>\n",
       "      <td>108622.43</td>\n",
       "    </tr>\n",
       "    <tr>\n",
       "      <th>26</th>\n",
       "      <td>9.5</td>\n",
       "      <td>116969.0</td>\n",
       "      <td>113180.48</td>\n",
       "    </tr>\n",
       "    <tr>\n",
       "      <th>27</th>\n",
       "      <td>9.6</td>\n",
       "      <td>112635.0</td>\n",
       "      <td>114092.10</td>\n",
       "    </tr>\n",
       "    <tr>\n",
       "      <th>28</th>\n",
       "      <td>10.3</td>\n",
       "      <td>122391.0</td>\n",
       "      <td>120473.38</td>\n",
       "    </tr>\n",
       "    <tr>\n",
       "      <th>29</th>\n",
       "      <td>10.5</td>\n",
       "      <td>121872.0</td>\n",
       "      <td>122296.60</td>\n",
       "    </tr>\n",
       "  </tbody>\n",
       "</table>\n",
       "</div>"
      ],
      "text/plain": [
       "    YearsExperience    Salary  PredictedSalary\n",
       "20              6.8   91738.0         88566.98\n",
       "21              7.1   98273.0         91301.81\n",
       "22              7.9  101302.0         98594.70\n",
       "23              8.2  113812.0        101329.54\n",
       "24              8.7  109431.0        105887.59\n",
       "25              9.0  105582.0        108622.43\n",
       "26              9.5  116969.0        113180.48\n",
       "27              9.6  112635.0        114092.10\n",
       "28             10.3  122391.0        120473.38\n",
       "29             10.5  121872.0        122296.60"
      ]
     },
     "execution_count": 31,
     "metadata": {},
     "output_type": "execute_result"
    }
   ],
   "source": [
    "df_new = predicted_salary[\"Dataframe\"]\n",
    "df_new"
   ]
  },
  {
   "cell_type": "code",
   "execution_count": 32,
   "metadata": {},
   "outputs": [
    {
     "data": {
      "image/png": "[encoded data removed]",
      "text/plain": [
       "<Figure size 432x288 with 1 Axes>"
      ]
     },
     "metadata": {
      "needs_background": "light"
     },
     "output_type": "display_data"
    }
   ],
   "source": [
    "plt.scatter(df_new[\"YearsExperience\"],df_new[\"Salary\"])\n",
    "plt.plot(df_new[\"YearsExperience\"],df_new[\"PredictedSalary\"],color = \"red\")\n",
    "plt.show()"
   ]
  },
  {
   "cell_type": "code",
   "execution_count": 33,
   "metadata": {},
   "outputs": [
    {
     "data": {
      "text/plain": [
       "5137.389255603474"
      ]
     },
     "execution_count": 33,
     "metadata": {},
     "output_type": "execute_result"
    }
   ],
   "source": [
    "RMSE = predicted_salary[\"RMSE\"]\n",
    "RMSE"
   ]
  },
  {
   "cell_type": "markdown",
   "metadata": {},
   "source": [
    "#### Analysing Logistic Regression"
   ]
  },
  {
   "cell_type": "code",
   "execution_count": 34,
   "metadata": {},
   "outputs": [],
   "source": [
    "# Testing model accuracy with test data\n",
    "def fit_test_logistic_model(dataframe, betas):\n",
    "    x_test = np.array(dataframe[\"YearsExperience\"])\n",
    "    y_test = np.array(dataframe[\"Salary60000\"])\n",
    "    \n",
    "    num = np.exp(betas[0] + betas[1]*x_test)\n",
    "    \n",
    "    p = num / (1 + num)\n",
    "    \n",
    "    dataframe = dataframe.assign(CalcProb = p)\n",
    "    return dataframe"
   ]
  },
  {
   "cell_type": "code",
   "execution_count": 35,
   "metadata": {},
   "outputs": [],
   "source": [
    "df_logistic_test = fit_test_logistic_model(df_logistic_test, betas)"
   ]
  },
  {
   "cell_type": "code",
   "execution_count": 36,
   "metadata": {},
   "outputs": [],
   "source": [
    "df_logistic_test = pred_probs(df_logistic_test)"
   ]
  },
  {
   "cell_type": "code",
   "execution_count": 37,
   "metadata": {},
   "outputs": [],
   "source": [
    "def analyse_logistic_model(dataframe):\n",
    "    true_pos = 0.0\n",
    "    true_neg = 0.0\n",
    "    false_pos = 0.0\n",
    "    false_neg = 0.0\n",
    "    for i in range(len(dataframe)):\n",
    "        if dataframe[\"Salary60000\"][i] == 1:\n",
    "            if dataframe[\"PredProb\"][i] == 1:\n",
    "                true_pos += 1\n",
    "            elif dataframe[\"PredProb\"][i] == 0:\n",
    "                false_pos += 1\n",
    "        elif dataframe[\"Salary60000\"][i] == 0:\n",
    "            if dataframe[\"PredProb\"][i] == 0:\n",
    "                true_neg += 1\n",
    "            elif dataframe[\"PredProb\"][i] == 1:\n",
    "                false_neg += 1     \n",
    "    precision = round(true_pos / (true_pos + false_pos), 2) \n",
    "    recall = round(true_pos / (true_pos + false_neg), 2)\n",
    "    accuracy = round((true_pos + true_neg) / len(dataframe), 2) \n",
    "    f1_score = round((2*recall*precision) / recall + precision, 2)\n",
    "    return dict(zip(('precision','recall','accuracy','f1_score'),(precision,recall,accuracy,f1_score)))"
   ]
  },
  {
   "cell_type": "code",
   "execution_count": 38,
   "metadata": {},
   "outputs": [],
   "source": [
    "final_results = analyse_logistic_model(df_logistic_test)"
   ]
  },
  {
   "cell_type": "code",
   "execution_count": 39,
   "metadata": {},
   "outputs": [
    {
     "data": {
      "text/plain": [
       "{'precision': 0.67, 'recall': 1.0, 'accuracy': 0.9, 'f1_score': 2.01}"
      ]
     },
     "execution_count": 39,
     "metadata": {},
     "output_type": "execute_result"
    }
   ],
   "source": [
    "final_results"
   ]
  },
  {
   "cell_type": "code",
   "execution_count": null,
   "metadata": {},
   "outputs": [],
   "source": []
  }
 ],
 "metadata": {
  "colab": {
   "name": "Untitled15.ipynb",
   "provenance": [],
   "version": "0.3.2"
  },
  "kernelspec": {
   "display_name": "Python 3 (ipykernel)",
   "language": "python",
   "name": "python3"
  },
  "language_info": {
   "codemirror_mode": {
    "name": "ipython",
    "version": 3
   },
   "file_extension": ".py",
   "mimetype": "text/x-python",
   "name": "python",
   "nbconvert_exporter": "python",
   "pygments_lexer": "ipython3",
   "version": "3.9.12"
  }
 },
 "nbformat": 4,
 "nbformat_minor": 4
}
